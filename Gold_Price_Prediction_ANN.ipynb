{
  "nbformat": 4,
  "nbformat_minor": 0,
  "metadata": {
    "colab": {
      "provenance": []
    },
    "kernelspec": {
      "name": "python3",
      "display_name": "Python 3"
    },
    "language_info": {
      "name": "python"
    }
  },
  "cells": [
    {
      "cell_type": "code",
      "execution_count": null,
      "metadata": {
        "id": "g-Iar2eDg7PW"
      },
      "outputs": [],
      "source": [
        "# import all of the necessary libraries\n",
        "import pandas as pd\n",
        "import numpy as np\n",
        "import tensorflow as tf\n",
        "from sklearn.model_selection import train_test_split\n",
        "from sklearn.metrics import r2_score\n",
        "from sklearn.preprocessing import StandardScaler\n",
        "from sklearn.preprocessing import MinMaxScaler\n",
        "from tensorflow import keras\n",
        "from tensorflow.keras import Sequential\n",
        "from tensorflow.keras.layers import Dense"
      ]
    },
    {
      "cell_type": "code",
      "source": [
        "# load the dataset\n",
        "gold = pd.read_csv('/content/gld_price_data.csv')\n",
        "gold.head()"
      ],
      "metadata": {
        "colab": {
          "base_uri": "https://localhost:8080/",
          "height": 206
        },
        "id": "ETAk3hLIpzzF",
        "outputId": "c056b762-3009-4344-d4e9-bc89a9c4fb90"
      },
      "execution_count": null,
      "outputs": [
        {
          "output_type": "execute_result",
          "data": {
            "text/plain": [
              "       Date          SPX        GLD        USO     SLV   EUR/USD\n",
              "0  01/02/08  1447.160034  84.860001  78.470001  15.180  1.471692\n",
              "1  01/03/08  1447.160034  85.570000  78.370003  15.285  1.474491\n",
              "2  01/04/08  1411.630005  85.129997  77.309998  15.167  1.475492\n",
              "3  01/07/08  1416.180054  84.769997  75.500000  15.053  1.468299\n",
              "4  01/08/08  1390.189941  86.779999  76.059998  15.590  1.557099"
            ],
            "text/html": [
              "\n",
              "  <div id=\"df-b1d75dfa-a0fa-4550-b652-a4072a06f7da\">\n",
              "    <div class=\"colab-df-container\">\n",
              "      <div>\n",
              "<style scoped>\n",
              "    .dataframe tbody tr th:only-of-type {\n",
              "        vertical-align: middle;\n",
              "    }\n",
              "\n",
              "    .dataframe tbody tr th {\n",
              "        vertical-align: top;\n",
              "    }\n",
              "\n",
              "    .dataframe thead th {\n",
              "        text-align: right;\n",
              "    }\n",
              "</style>\n",
              "<table border=\"1\" class=\"dataframe\">\n",
              "  <thead>\n",
              "    <tr style=\"text-align: right;\">\n",
              "      <th></th>\n",
              "      <th>Date</th>\n",
              "      <th>SPX</th>\n",
              "      <th>GLD</th>\n",
              "      <th>USO</th>\n",
              "      <th>SLV</th>\n",
              "      <th>EUR/USD</th>\n",
              "    </tr>\n",
              "  </thead>\n",
              "  <tbody>\n",
              "    <tr>\n",
              "      <th>0</th>\n",
              "      <td>01/02/08</td>\n",
              "      <td>1447.160034</td>\n",
              "      <td>84.860001</td>\n",
              "      <td>78.470001</td>\n",
              "      <td>15.180</td>\n",
              "      <td>1.471692</td>\n",
              "    </tr>\n",
              "    <tr>\n",
              "      <th>1</th>\n",
              "      <td>01/03/08</td>\n",
              "      <td>1447.160034</td>\n",
              "      <td>85.570000</td>\n",
              "      <td>78.370003</td>\n",
              "      <td>15.285</td>\n",
              "      <td>1.474491</td>\n",
              "    </tr>\n",
              "    <tr>\n",
              "      <th>2</th>\n",
              "      <td>01/04/08</td>\n",
              "      <td>1411.630005</td>\n",
              "      <td>85.129997</td>\n",
              "      <td>77.309998</td>\n",
              "      <td>15.167</td>\n",
              "      <td>1.475492</td>\n",
              "    </tr>\n",
              "    <tr>\n",
              "      <th>3</th>\n",
              "      <td>01/07/08</td>\n",
              "      <td>1416.180054</td>\n",
              "      <td>84.769997</td>\n",
              "      <td>75.500000</td>\n",
              "      <td>15.053</td>\n",
              "      <td>1.468299</td>\n",
              "    </tr>\n",
              "    <tr>\n",
              "      <th>4</th>\n",
              "      <td>01/08/08</td>\n",
              "      <td>1390.189941</td>\n",
              "      <td>86.779999</td>\n",
              "      <td>76.059998</td>\n",
              "      <td>15.590</td>\n",
              "      <td>1.557099</td>\n",
              "    </tr>\n",
              "  </tbody>\n",
              "</table>\n",
              "</div>\n",
              "      <button class=\"colab-df-convert\" onclick=\"convertToInteractive('df-b1d75dfa-a0fa-4550-b652-a4072a06f7da')\"\n",
              "              title=\"Convert this dataframe to an interactive table.\"\n",
              "              style=\"display:none;\">\n",
              "        \n",
              "  <svg xmlns=\"http://www.w3.org/2000/svg\" height=\"24px\"viewBox=\"0 0 24 24\"\n",
              "       width=\"24px\">\n",
              "    <path d=\"M0 0h24v24H0V0z\" fill=\"none\"/>\n",
              "    <path d=\"M18.56 5.44l.94 2.06.94-2.06 2.06-.94-2.06-.94-.94-2.06-.94 2.06-2.06.94zm-11 1L8.5 8.5l.94-2.06 2.06-.94-2.06-.94L8.5 2.5l-.94 2.06-2.06.94zm10 10l.94 2.06.94-2.06 2.06-.94-2.06-.94-.94-2.06-.94 2.06-2.06.94z\"/><path d=\"M17.41 7.96l-1.37-1.37c-.4-.4-.92-.59-1.43-.59-.52 0-1.04.2-1.43.59L10.3 9.45l-7.72 7.72c-.78.78-.78 2.05 0 2.83L4 21.41c.39.39.9.59 1.41.59.51 0 1.02-.2 1.41-.59l7.78-7.78 2.81-2.81c.8-.78.8-2.07 0-2.86zM5.41 20L4 18.59l7.72-7.72 1.47 1.35L5.41 20z\"/>\n",
              "  </svg>\n",
              "      </button>\n",
              "      \n",
              "  <style>\n",
              "    .colab-df-container {\n",
              "      display:flex;\n",
              "      flex-wrap:wrap;\n",
              "      gap: 12px;\n",
              "    }\n",
              "\n",
              "    .colab-df-convert {\n",
              "      background-color: #E8F0FE;\n",
              "      border: none;\n",
              "      border-radius: 50%;\n",
              "      cursor: pointer;\n",
              "      display: none;\n",
              "      fill: #1967D2;\n",
              "      height: 32px;\n",
              "      padding: 0 0 0 0;\n",
              "      width: 32px;\n",
              "    }\n",
              "\n",
              "    .colab-df-convert:hover {\n",
              "      background-color: #E2EBFA;\n",
              "      box-shadow: 0px 1px 2px rgba(60, 64, 67, 0.3), 0px 1px 3px 1px rgba(60, 64, 67, 0.15);\n",
              "      fill: #174EA6;\n",
              "    }\n",
              "\n",
              "    [theme=dark] .colab-df-convert {\n",
              "      background-color: #3B4455;\n",
              "      fill: #D2E3FC;\n",
              "    }\n",
              "\n",
              "    [theme=dark] .colab-df-convert:hover {\n",
              "      background-color: #434B5C;\n",
              "      box-shadow: 0px 1px 3px 1px rgba(0, 0, 0, 0.15);\n",
              "      filter: drop-shadow(0px 1px 2px rgba(0, 0, 0, 0.3));\n",
              "      fill: #FFFFFF;\n",
              "    }\n",
              "  </style>\n",
              "\n",
              "      <script>\n",
              "        const buttonEl =\n",
              "          document.querySelector('#df-b1d75dfa-a0fa-4550-b652-a4072a06f7da button.colab-df-convert');\n",
              "        buttonEl.style.display =\n",
              "          google.colab.kernel.accessAllowed ? 'block' : 'none';\n",
              "\n",
              "        async function convertToInteractive(key) {\n",
              "          const element = document.querySelector('#df-b1d75dfa-a0fa-4550-b652-a4072a06f7da');\n",
              "          const dataTable =\n",
              "            await google.colab.kernel.invokeFunction('convertToInteractive',\n",
              "                                                     [key], {});\n",
              "          if (!dataTable) return;\n",
              "\n",
              "          const docLinkHtml = 'Like what you see? Visit the ' +\n",
              "            '<a target=\"_blank\" href=https://colab.research.google.com/notebooks/data_table.ipynb>data table notebook</a>'\n",
              "            + ' to learn more about interactive tables.';\n",
              "          element.innerHTML = '';\n",
              "          dataTable['output_type'] = 'display_data';\n",
              "          await google.colab.output.renderOutput(dataTable, element);\n",
              "          const docLink = document.createElement('div');\n",
              "          docLink.innerHTML = docLinkHtml;\n",
              "          element.appendChild(docLink);\n",
              "        }\n",
              "      </script>\n",
              "    </div>\n",
              "  </div>\n",
              "  "
            ]
          },
          "metadata": {},
          "execution_count": 27
        }
      ]
    },
    {
      "cell_type": "code",
      "source": [
        "# create feature and target variables\n",
        "X = gold[['SPX','USO','SLV','EUR/USD']]\n",
        "y = gold['GLD']"
      ],
      "metadata": {
        "id": "O1Edt6mapz2N"
      },
      "execution_count": null,
      "outputs": []
    },
    {
      "cell_type": "code",
      "source": [
        "# divide the dataset into a training and test datasets\n",
        "X_train, X_test, y_train, y_test = train_test_split(X,y,test_size=0.2)"
      ],
      "metadata": {
        "id": "4UcPGlsPpz5W"
      },
      "execution_count": null,
      "outputs": []
    },
    {
      "cell_type": "code",
      "source": [
        "# scale the features \n",
        "scaler = MinMaxScaler()\n",
        "X_train_scaled = scaler.fit_transform(X_train)\n",
        "X_test_scaled = scaler.fit_transform(X_test)"
      ],
      "metadata": {
        "id": "2KnzgbfeJXQC"
      },
      "execution_count": null,
      "outputs": []
    },
    {
      "cell_type": "code",
      "source": [
        "# create the ANN model\n",
        "model = Sequential()"
      ],
      "metadata": {
        "id": "yysDeNNRJXWF"
      },
      "execution_count": null,
      "outputs": []
    },
    {
      "cell_type": "code",
      "source": [
        "# create the dense layers\n",
        "model.add(Dense(10,activation='relu', input_dim=4))\n",
        "model.add(Dense(10,activation='relu'))\n",
        "model.add(Dense(1,activation='linear'))"
      ],
      "metadata": {
        "id": "7DtIz9WGJXZy"
      },
      "execution_count": null,
      "outputs": []
    },
    {
      "cell_type": "code",
      "source": [
        "# compile the model\n",
        "model.compile(loss=\"mean_squared_error\",optimizer='Adam')"
      ],
      "metadata": {
        "id": "RBwPV4qpJXem"
      },
      "execution_count": null,
      "outputs": []
    },
    {
      "cell_type": "code",
      "source": [
        "# train the model\n",
        "history = model.fit(X_train_scaled,y_train,epochs=50, validation_split=0.1)"
      ],
      "metadata": {
        "colab": {
          "base_uri": "https://localhost:8080/"
        },
        "id": "ArnM1XjZKnb_",
        "outputId": "becc160b-4172-4b56-f83b-c2d0586474af"
      },
      "execution_count": null,
      "outputs": [
        {
          "output_type": "stream",
          "name": "stdout",
          "text": [
            "Epoch 1/50\n",
            "52/52 [==============================] - 1s 5ms/step - loss: 15595.3281 - val_loss: 15358.6494\n",
            "Epoch 2/50\n",
            "52/52 [==============================] - 0s 3ms/step - loss: 15436.6191 - val_loss: 15108.6309\n",
            "Epoch 3/50\n",
            "52/52 [==============================] - 0s 3ms/step - loss: 15086.8652 - val_loss: 14638.9922\n",
            "Epoch 4/50\n",
            "52/52 [==============================] - 0s 2ms/step - loss: 14419.3301 - val_loss: 13758.1641\n",
            "Epoch 5/50\n",
            "52/52 [==============================] - 0s 2ms/step - loss: 13277.0332 - val_loss: 12362.5283\n",
            "Epoch 6/50\n",
            "52/52 [==============================] - 0s 3ms/step - loss: 11591.7402 - val_loss: 10425.6377\n",
            "Epoch 7/50\n",
            "52/52 [==============================] - 0s 3ms/step - loss: 9375.2139 - val_loss: 8024.9307\n",
            "Epoch 8/50\n",
            "52/52 [==============================] - 0s 2ms/step - loss: 6863.4497 - val_loss: 5525.5557\n",
            "Epoch 9/50\n",
            "52/52 [==============================] - 0s 9ms/step - loss: 4466.6748 - val_loss: 3356.9133\n",
            "Epoch 10/50\n",
            "52/52 [==============================] - 0s 3ms/step - loss: 2579.5337 - val_loss: 1827.9923\n",
            "Epoch 11/50\n",
            "52/52 [==============================] - 0s 3ms/step - loss: 1398.2595 - val_loss: 974.8129\n",
            "Epoch 12/50\n",
            "52/52 [==============================] - 0s 2ms/step - loss: 828.3397 - val_loss: 623.1393\n",
            "Epoch 13/50\n",
            "52/52 [==============================] - 0s 7ms/step - loss: 619.1097 - val_loss: 505.6741\n",
            "Epoch 14/50\n",
            "52/52 [==============================] - 0s 3ms/step - loss: 553.1110 - val_loss: 464.8871\n",
            "Epoch 15/50\n",
            "52/52 [==============================] - 0s 2ms/step - loss: 529.1086 - val_loss: 447.2178\n",
            "Epoch 16/50\n",
            "52/52 [==============================] - 0s 3ms/step - loss: 513.6208 - val_loss: 434.5781\n",
            "Epoch 17/50\n",
            "52/52 [==============================] - 0s 5ms/step - loss: 499.3551 - val_loss: 423.5219\n",
            "Epoch 18/50\n",
            "52/52 [==============================] - 0s 5ms/step - loss: 485.7542 - val_loss: 412.8165\n",
            "Epoch 19/50\n",
            "52/52 [==============================] - 0s 3ms/step - loss: 472.6094 - val_loss: 402.3416\n",
            "Epoch 20/50\n",
            "52/52 [==============================] - 0s 2ms/step - loss: 458.9696 - val_loss: 392.6476\n",
            "Epoch 21/50\n",
            "52/52 [==============================] - 0s 3ms/step - loss: 445.8475 - val_loss: 382.7916\n",
            "Epoch 22/50\n",
            "52/52 [==============================] - 0s 2ms/step - loss: 433.2461 - val_loss: 372.8744\n",
            "Epoch 23/50\n",
            "52/52 [==============================] - 0s 2ms/step - loss: 420.6858 - val_loss: 362.7479\n",
            "Epoch 24/50\n",
            "52/52 [==============================] - 0s 3ms/step - loss: 408.3453 - val_loss: 353.7088\n",
            "Epoch 25/50\n",
            "52/52 [==============================] - 0s 2ms/step - loss: 396.8909 - val_loss: 344.4418\n",
            "Epoch 26/50\n",
            "52/52 [==============================] - 0s 3ms/step - loss: 384.5803 - val_loss: 335.5304\n",
            "Epoch 27/50\n",
            "52/52 [==============================] - 0s 3ms/step - loss: 373.2392 - val_loss: 326.4861\n",
            "Epoch 28/50\n",
            "52/52 [==============================] - 0s 3ms/step - loss: 362.1781 - val_loss: 317.7502\n",
            "Epoch 29/50\n",
            "52/52 [==============================] - 0s 3ms/step - loss: 351.2915 - val_loss: 309.0101\n",
            "Epoch 30/50\n",
            "52/52 [==============================] - 0s 2ms/step - loss: 340.4678 - val_loss: 301.1499\n",
            "Epoch 31/50\n",
            "52/52 [==============================] - 0s 2ms/step - loss: 330.0972 - val_loss: 292.9892\n",
            "Epoch 32/50\n",
            "52/52 [==============================] - 0s 2ms/step - loss: 319.7644 - val_loss: 284.5135\n",
            "Epoch 33/50\n",
            "52/52 [==============================] - 0s 3ms/step - loss: 309.7795 - val_loss: 276.5319\n",
            "Epoch 34/50\n",
            "52/52 [==============================] - 0s 3ms/step - loss: 300.1395 - val_loss: 268.9587\n",
            "Epoch 35/50\n",
            "52/52 [==============================] - 0s 3ms/step - loss: 290.5054 - val_loss: 261.2520\n",
            "Epoch 36/50\n",
            "52/52 [==============================] - 0s 3ms/step - loss: 281.4738 - val_loss: 253.8332\n",
            "Epoch 37/50\n",
            "52/52 [==============================] - 0s 2ms/step - loss: 272.1522 - val_loss: 246.1655\n",
            "Epoch 38/50\n",
            "52/52 [==============================] - 0s 3ms/step - loss: 263.2341 - val_loss: 239.1599\n",
            "Epoch 39/50\n",
            "52/52 [==============================] - 0s 3ms/step - loss: 254.9720 - val_loss: 232.0529\n",
            "Epoch 40/50\n",
            "52/52 [==============================] - 0s 3ms/step - loss: 245.9743 - val_loss: 225.5439\n",
            "Epoch 41/50\n",
            "52/52 [==============================] - 0s 3ms/step - loss: 237.7738 - val_loss: 218.7862\n",
            "Epoch 42/50\n",
            "52/52 [==============================] - 0s 3ms/step - loss: 229.4072 - val_loss: 212.0257\n",
            "Epoch 43/50\n",
            "52/52 [==============================] - 0s 2ms/step - loss: 221.4779 - val_loss: 205.6391\n",
            "Epoch 44/50\n",
            "52/52 [==============================] - 0s 2ms/step - loss: 213.9715 - val_loss: 199.2459\n",
            "Epoch 45/50\n",
            "52/52 [==============================] - 0s 3ms/step - loss: 206.4253 - val_loss: 193.2032\n",
            "Epoch 46/50\n",
            "52/52 [==============================] - 0s 3ms/step - loss: 199.1607 - val_loss: 187.2780\n",
            "Epoch 47/50\n",
            "52/52 [==============================] - 0s 3ms/step - loss: 192.0281 - val_loss: 181.4459\n",
            "Epoch 48/50\n",
            "52/52 [==============================] - 0s 2ms/step - loss: 185.3961 - val_loss: 175.7790\n",
            "Epoch 49/50\n",
            "52/52 [==============================] - 0s 2ms/step - loss: 178.6411 - val_loss: 170.3064\n",
            "Epoch 50/50\n",
            "52/52 [==============================] - 0s 2ms/step - loss: 172.3587 - val_loss: 165.1743\n"
          ]
        }
      ]
    },
    {
      "cell_type": "code",
      "source": [
        "# predict the price \n",
        "y_pred = model.predict(X_test_scaled)"
      ],
      "metadata": {
        "colab": {
          "base_uri": "https://localhost:8080/"
        },
        "id": "5m-rNQZiKnja",
        "outputId": "80cca195-36b8-4046-dd0f-d0765bc90222"
      },
      "execution_count": null,
      "outputs": [
        {
          "output_type": "stream",
          "name": "stdout",
          "text": [
            "15/15 [==============================] - 0s 2ms/step\n"
          ]
        }
      ]
    },
    {
      "cell_type": "code",
      "source": [
        "# calculate the r2 square\n",
        "r2_score(y_test,y_pred)"
      ],
      "metadata": {
        "colab": {
          "base_uri": "https://localhost:8080/"
        },
        "id": "1pN3ORUlLSk-",
        "outputId": "0af645ab-415c-43db-e1bb-77da539c787c"
      },
      "execution_count": null,
      "outputs": [
        {
          "output_type": "execute_result",
          "data": {
            "text/plain": [
              "0.7218544037805391"
            ]
          },
          "metadata": {},
          "execution_count": 40
        }
      ]
    },
    {
      "cell_type": "code",
      "source": [],
      "metadata": {
        "id": "L0TLPDd_KnoG"
      },
      "execution_count": null,
      "outputs": []
    }
  ]
}