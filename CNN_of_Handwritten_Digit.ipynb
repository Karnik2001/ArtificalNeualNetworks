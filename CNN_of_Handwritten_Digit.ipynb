{
  "nbformat": 4,
  "nbformat_minor": 0,
  "metadata": {
    "colab": {
      "provenance": []
    },
    "kernelspec": {
      "name": "python3",
      "display_name": "Python 3"
    },
    "language_info": {
      "name": "python"
    }
  },
  "cells": [
    {
      "cell_type": "code",
      "execution_count": 1,
      "metadata": {
        "id": "3lv1-wy4x0gV"
      },
      "outputs": [],
      "source": [
        "# import all of the necessary libraries\n",
        "from tensorflow.keras.datasets import mnist\n",
        "from tensorflow.keras.models import Sequential\n",
        "from tensorflow.keras.layers import Conv2D\n",
        "from tensorflow.keras.layers import MaxPool2D\n",
        "from tensorflow.keras.layers import Flatten\n",
        "from tensorflow.keras.layers import Dropout \n",
        "from tensorflow.keras.layers import Dense"
      ]
    },
    {
      "cell_type": "code",
      "source": [
        "# load the dataset including the training and test dataset\n",
        "(X_train,y_train), (X_test,y_test) = mnist.load_data()"
      ],
      "metadata": {
        "colab": {
          "base_uri": "https://localhost:8080/"
        },
        "id": "upoX-CaOx8UH",
        "outputId": "04ffaff0-6084-4755-971f-d4ef0ea60a86"
      },
      "execution_count": 2,
      "outputs": [
        {
          "output_type": "stream",
          "name": "stdout",
          "text": [
            "Downloading data from https://storage.googleapis.com/tensorflow/tf-keras-datasets/mnist.npz\n",
            "11490434/11490434 [==============================] - 0s 0us/step\n"
          ]
        }
      ]
    },
    {
      "cell_type": "code",
      "source": [
        "# reshape the training and test dataset\n",
        "X_train = X_train.reshape((X_train.shape[0], X_train.shape[1], X_train.shape[2],1))\n",
        "X_test = X_test.reshape((X_test.shape[0], X_test.shape[1], X_test.shape[2],1))"
      ],
      "metadata": {
        "id": "y-O4syUyx8W2"
      },
      "execution_count": 3,
      "outputs": []
    },
    {
      "cell_type": "code",
      "source": [
        "# display the dimensions of the training dataset\n",
        "print(X_train.shape)"
      ],
      "metadata": {
        "colab": {
          "base_uri": "https://localhost:8080/"
        },
        "id": "TGdrWnmHx8Z2",
        "outputId": "42f43764-81a2-4ce0-bb6a-f600742d819a"
      },
      "execution_count": 4,
      "outputs": [
        {
          "output_type": "stream",
          "name": "stdout",
          "text": [
            "(60000, 28, 28, 1)\n"
          ]
        }
      ]
    },
    {
      "cell_type": "code",
      "source": [
        "# display the dimensions of the test dataset\n",
        "print(X_test.shape)"
      ],
      "metadata": {
        "colab": {
          "base_uri": "https://localhost:8080/"
        },
        "id": "nxqZiESUx8c2",
        "outputId": "b9e63d69-597a-4465-cf94-7da21ff71bac"
      },
      "execution_count": 5,
      "outputs": [
        {
          "output_type": "stream",
          "name": "stdout",
          "text": [
            "(10000, 28, 28, 1)\n"
          ]
        }
      ]
    },
    {
      "cell_type": "code",
      "source": [
        "# convert the training and test datasets into image datasets\n",
        "X_train = X_train/255\n",
        "X_test = X_test/255"
      ],
      "metadata": {
        "id": "jD7CprT8x8f2"
      },
      "execution_count": 6,
      "outputs": []
    },
    {
      "cell_type": "code",
      "source": [
        "# create the CNN model\n",
        "model = Sequential()\n",
        "# create the convolutional layer\n",
        "model.add(Conv2D(32,(3,3), activation = 'relu', input_shape= (28,28,1)))\n",
        "# create the pooling layer\n",
        "model.add(MaxPool2D(2,2))\n",
        "# create the flatten layer\n",
        "model.add(Flatten())\n",
        "# create the dense layer\n",
        "model.add(Dense(100,activation = 'relu'))\n",
        "model.add(Dense(10,activation = 'softmax'))\n",
        "# compile the model\n",
        "model.compile(loss = 'sparse_categorical_crossentropy', optimizer = 'adam', metrics = ['accuracy'])\n",
        "model.fit(X_train,y_train,epochs=10)"
      ],
      "metadata": {
        "colab": {
          "base_uri": "https://localhost:8080/"
        },
        "id": "9I65kFIwx8iu",
        "outputId": "ae7aa1b2-8084-4f3b-f122-b656451b39f2"
      },
      "execution_count": 7,
      "outputs": [
        {
          "output_type": "stream",
          "name": "stdout",
          "text": [
            "Epoch 1/10\n",
            "1875/1875 [==============================] - 44s 23ms/step - loss: 0.1678 - accuracy: 0.9504\n",
            "Epoch 2/10\n",
            "1875/1875 [==============================] - 41s 22ms/step - loss: 0.0577 - accuracy: 0.9823\n",
            "Epoch 3/10\n",
            "1875/1875 [==============================] - 41s 22ms/step - loss: 0.0377 - accuracy: 0.9883\n",
            "Epoch 4/10\n",
            "1875/1875 [==============================] - 42s 22ms/step - loss: 0.0259 - accuracy: 0.9920\n",
            "Epoch 5/10\n",
            "1875/1875 [==============================] - 43s 23ms/step - loss: 0.0178 - accuracy: 0.9943\n",
            "Epoch 6/10\n",
            "1875/1875 [==============================] - 46s 24ms/step - loss: 0.0127 - accuracy: 0.9962\n",
            "Epoch 7/10\n",
            "1875/1875 [==============================] - 47s 25ms/step - loss: 0.0091 - accuracy: 0.9969\n",
            "Epoch 8/10\n",
            "1875/1875 [==============================] - 46s 25ms/step - loss: 0.0074 - accuracy: 0.9977\n",
            "Epoch 9/10\n",
            "1875/1875 [==============================] - 44s 24ms/step - loss: 0.0069 - accuracy: 0.9975\n",
            "Epoch 10/10\n",
            "1875/1875 [==============================] - 46s 25ms/step - loss: 0.0057 - accuracy: 0.9979\n"
          ]
        },
        {
          "output_type": "execute_result",
          "data": {
            "text/plain": [
              "<keras.callbacks.History at 0x7f0572e24a00>"
            ]
          },
          "metadata": {},
          "execution_count": 7
        }
      ]
    },
    {
      "cell_type": "code",
      "source": [
        "# calculate the loss value and accuracy score\n",
        "model.evaluate(X_test,y_test)"
      ],
      "metadata": {
        "colab": {
          "base_uri": "https://localhost:8080/"
        },
        "id": "_OlGzfFYx8lm",
        "outputId": "fd22d1d8-16fe-4a73-9454-cbad5246e057"
      },
      "execution_count": null,
      "outputs": [
        {
          "output_type": "stream",
          "name": "stdout",
          "text": [
            "313/313 [==============================] - 3s 8ms/step - loss: 0.0579 - accuracy: 0.9863\n"
          ]
        },
        {
          "output_type": "execute_result",
          "data": {
            "text/plain": [
              "[0.05792013555765152, 0.986299991607666]"
            ]
          },
          "metadata": {},
          "execution_count": 9
        }
      ]
    },
    {
      "cell_type": "code",
      "source": [],
      "metadata": {
        "id": "EBI3i-9Vx8oe"
      },
      "execution_count": null,
      "outputs": []
    },
    {
      "cell_type": "code",
      "source": [],
      "metadata": {
        "id": "YFRnlUqPx8rQ"
      },
      "execution_count": null,
      "outputs": []
    },
    {
      "cell_type": "code",
      "source": [],
      "metadata": {
        "id": "Fn1YmnJrx8uI"
      },
      "execution_count": null,
      "outputs": []
    },
    {
      "cell_type": "code",
      "source": [],
      "metadata": {
        "id": "e6N-y6flx8xW"
      },
      "execution_count": null,
      "outputs": []
    },
    {
      "cell_type": "code",
      "source": [],
      "metadata": {
        "id": "p6TwvuJSx80u"
      },
      "execution_count": null,
      "outputs": []
    },
    {
      "cell_type": "code",
      "source": [],
      "metadata": {
        "id": "NzDWBBYDx83m"
      },
      "execution_count": null,
      "outputs": []
    },
    {
      "cell_type": "code",
      "source": [],
      "metadata": {
        "id": "7_YvS9Wkx865"
      },
      "execution_count": null,
      "outputs": []
    },
    {
      "cell_type": "code",
      "source": [],
      "metadata": {
        "id": "rhSEfmx6x8-B"
      },
      "execution_count": null,
      "outputs": []
    },
    {
      "cell_type": "code",
      "source": [],
      "metadata": {
        "id": "1elFpWaOx9BK"
      },
      "execution_count": null,
      "outputs": []
    },
    {
      "cell_type": "code",
      "source": [],
      "metadata": {
        "id": "9bHNTpUtx9Dx"
      },
      "execution_count": null,
      "outputs": []
    },
    {
      "cell_type": "code",
      "source": [],
      "metadata": {
        "id": "tS5qS_e9x9Gu"
      },
      "execution_count": null,
      "outputs": []
    },
    {
      "cell_type": "code",
      "source": [],
      "metadata": {
        "id": "lKLlnXQfx9KG"
      },
      "execution_count": null,
      "outputs": []
    },
    {
      "cell_type": "code",
      "source": [],
      "metadata": {
        "id": "OFO68Bqcx9Mu"
      },
      "execution_count": null,
      "outputs": []
    }
  ]
}