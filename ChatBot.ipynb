{
  "cells": [
    {
      "cell_type": "code",
      "execution_count": 1,
      "metadata": {
        "colab": {
          "base_uri": "https://localhost:8080/"
        },
        "id": "opLXjwzfbYDh",
        "outputId": "8b7ab17a-e47d-4a72-f241-fe12b58b2b68"
      },
      "outputs": [
        {
          "output_type": "stream",
          "name": "stderr",
          "text": [
            "[nltk_data] Downloading package punkt to /root/nltk_data...\n",
            "[nltk_data]   Unzipping tokenizers/punkt.zip.\n"
          ]
        }
      ],
      "source": [
        "# import all of necessary libraries\n",
        "import nltk\n",
        "nltk.download('punkt')\n",
        "from nltk.stem import PorterStemmer\n",
        "stemmer = PorterStemmer()\n",
        "\n",
        "import tensorflow as tf\n",
        "import numpy as np\n",
        "import random\n",
        "import json"
      ]
    },
    {
      "cell_type": "code",
      "execution_count": 4,
      "metadata": {
        "colab": {
          "base_uri": "https://localhost:8080/",
          "height": 789
        },
        "id": "ghl7VEFGbjT0",
        "outputId": "b36a8cb5-60fa-4051-db2f-b083509eb3e3"
      },
      "outputs": [
        {
          "output_type": "display_data",
          "data": {
            "text/plain": [
              "<IPython.core.display.HTML object>"
            ],
            "text/html": [
              "\n",
              "     <input type=\"file\" id=\"files-632b51b9-bb4a-4e48-9a85-4b717b0af2c4\" name=\"files[]\" multiple disabled\n",
              "        style=\"border:none\" />\n",
              "     <output id=\"result-632b51b9-bb4a-4e48-9a85-4b717b0af2c4\">\n",
              "      Upload widget is only available when the cell has been executed in the\n",
              "      current browser session. Please rerun this cell to enable.\n",
              "      </output>\n",
              "      <script>// Copyright 2017 Google LLC\n",
              "//\n",
              "// Licensed under the Apache License, Version 2.0 (the \"License\");\n",
              "// you may not use this file except in compliance with the License.\n",
              "// You may obtain a copy of the License at\n",
              "//\n",
              "//      http://www.apache.org/licenses/LICENSE-2.0\n",
              "//\n",
              "// Unless required by applicable law or agreed to in writing, software\n",
              "// distributed under the License is distributed on an \"AS IS\" BASIS,\n",
              "// WITHOUT WARRANTIES OR CONDITIONS OF ANY KIND, either express or implied.\n",
              "// See the License for the specific language governing permissions and\n",
              "// limitations under the License.\n",
              "\n",
              "/**\n",
              " * @fileoverview Helpers for google.colab Python module.\n",
              " */\n",
              "(function(scope) {\n",
              "function span(text, styleAttributes = {}) {\n",
              "  const element = document.createElement('span');\n",
              "  element.textContent = text;\n",
              "  for (const key of Object.keys(styleAttributes)) {\n",
              "    element.style[key] = styleAttributes[key];\n",
              "  }\n",
              "  return element;\n",
              "}\n",
              "\n",
              "// Max number of bytes which will be uploaded at a time.\n",
              "const MAX_PAYLOAD_SIZE = 100 * 1024;\n",
              "\n",
              "function _uploadFiles(inputId, outputId) {\n",
              "  const steps = uploadFilesStep(inputId, outputId);\n",
              "  const outputElement = document.getElementById(outputId);\n",
              "  // Cache steps on the outputElement to make it available for the next call\n",
              "  // to uploadFilesContinue from Python.\n",
              "  outputElement.steps = steps;\n",
              "\n",
              "  return _uploadFilesContinue(outputId);\n",
              "}\n",
              "\n",
              "// This is roughly an async generator (not supported in the browser yet),\n",
              "// where there are multiple asynchronous steps and the Python side is going\n",
              "// to poll for completion of each step.\n",
              "// This uses a Promise to block the python side on completion of each step,\n",
              "// then passes the result of the previous step as the input to the next step.\n",
              "function _uploadFilesContinue(outputId) {\n",
              "  const outputElement = document.getElementById(outputId);\n",
              "  const steps = outputElement.steps;\n",
              "\n",
              "  const next = steps.next(outputElement.lastPromiseValue);\n",
              "  return Promise.resolve(next.value.promise).then((value) => {\n",
              "    // Cache the last promise value to make it available to the next\n",
              "    // step of the generator.\n",
              "    outputElement.lastPromiseValue = value;\n",
              "    return next.value.response;\n",
              "  });\n",
              "}\n",
              "\n",
              "/**\n",
              " * Generator function which is called between each async step of the upload\n",
              " * process.\n",
              " * @param {string} inputId Element ID of the input file picker element.\n",
              " * @param {string} outputId Element ID of the output display.\n",
              " * @return {!Iterable<!Object>} Iterable of next steps.\n",
              " */\n",
              "function* uploadFilesStep(inputId, outputId) {\n",
              "  const inputElement = document.getElementById(inputId);\n",
              "  inputElement.disabled = false;\n",
              "\n",
              "  const outputElement = document.getElementById(outputId);\n",
              "  outputElement.innerHTML = '';\n",
              "\n",
              "  const pickedPromise = new Promise((resolve) => {\n",
              "    inputElement.addEventListener('change', (e) => {\n",
              "      resolve(e.target.files);\n",
              "    });\n",
              "  });\n",
              "\n",
              "  const cancel = document.createElement('button');\n",
              "  inputElement.parentElement.appendChild(cancel);\n",
              "  cancel.textContent = 'Cancel upload';\n",
              "  const cancelPromise = new Promise((resolve) => {\n",
              "    cancel.onclick = () => {\n",
              "      resolve(null);\n",
              "    };\n",
              "  });\n",
              "\n",
              "  // Wait for the user to pick the files.\n",
              "  const files = yield {\n",
              "    promise: Promise.race([pickedPromise, cancelPromise]),\n",
              "    response: {\n",
              "      action: 'starting',\n",
              "    }\n",
              "  };\n",
              "\n",
              "  cancel.remove();\n",
              "\n",
              "  // Disable the input element since further picks are not allowed.\n",
              "  inputElement.disabled = true;\n",
              "\n",
              "  if (!files) {\n",
              "    return {\n",
              "      response: {\n",
              "        action: 'complete',\n",
              "      }\n",
              "    };\n",
              "  }\n",
              "\n",
              "  for (const file of files) {\n",
              "    const li = document.createElement('li');\n",
              "    li.append(span(file.name, {fontWeight: 'bold'}));\n",
              "    li.append(span(\n",
              "        `(${file.type || 'n/a'}) - ${file.size} bytes, ` +\n",
              "        `last modified: ${\n",
              "            file.lastModifiedDate ? file.lastModifiedDate.toLocaleDateString() :\n",
              "                                    'n/a'} - `));\n",
              "    const percent = span('0% done');\n",
              "    li.appendChild(percent);\n",
              "\n",
              "    outputElement.appendChild(li);\n",
              "\n",
              "    const fileDataPromise = new Promise((resolve) => {\n",
              "      const reader = new FileReader();\n",
              "      reader.onload = (e) => {\n",
              "        resolve(e.target.result);\n",
              "      };\n",
              "      reader.readAsArrayBuffer(file);\n",
              "    });\n",
              "    // Wait for the data to be ready.\n",
              "    let fileData = yield {\n",
              "      promise: fileDataPromise,\n",
              "      response: {\n",
              "        action: 'continue',\n",
              "      }\n",
              "    };\n",
              "\n",
              "    // Use a chunked sending to avoid message size limits. See b/62115660.\n",
              "    let position = 0;\n",
              "    do {\n",
              "      const length = Math.min(fileData.byteLength - position, MAX_PAYLOAD_SIZE);\n",
              "      const chunk = new Uint8Array(fileData, position, length);\n",
              "      position += length;\n",
              "\n",
              "      const base64 = btoa(String.fromCharCode.apply(null, chunk));\n",
              "      yield {\n",
              "        response: {\n",
              "          action: 'append',\n",
              "          file: file.name,\n",
              "          data: base64,\n",
              "        },\n",
              "      };\n",
              "\n",
              "      let percentDone = fileData.byteLength === 0 ?\n",
              "          100 :\n",
              "          Math.round((position / fileData.byteLength) * 100);\n",
              "      percent.textContent = `${percentDone}% done`;\n",
              "\n",
              "    } while (position < fileData.byteLength);\n",
              "  }\n",
              "\n",
              "  // All done.\n",
              "  yield {\n",
              "    response: {\n",
              "      action: 'complete',\n",
              "    }\n",
              "  };\n",
              "}\n",
              "\n",
              "scope.google = scope.google || {};\n",
              "scope.google.colab = scope.google.colab || {};\n",
              "scope.google.colab._files = {\n",
              "  _uploadFiles,\n",
              "  _uploadFilesContinue,\n",
              "};\n",
              "})(self);\n",
              "</script> "
            ]
          },
          "metadata": {}
        },
        {
          "output_type": "stream",
          "name": "stdout",
          "text": [
            "Saving intents.json to intents.json\n"
          ]
        },
        {
          "output_type": "execute_result",
          "data": {
            "text/plain": [
              "{'intents.json': b'{\\r\\n        \"intents\": [\\r\\n                {\\r\\n                        \"tag\": \"greeting\",\\r\\n                        \"patterns\": [\\r\\n                                \"Hi\",\\r\\n                                \"How are you\",\\r\\n                                \"Is anyone there?\",\\r\\n                                \"Hello\",\\r\\n                                \"Good day\"\\r\\n                        ],\\r\\n                        \"responses\": [\\r\\n                                \"Hello, thanks for visiting\",\\r\\n                                \"Good to see you again\",\\r\\n                                \"Hi there, how can I help?\"\\r\\n                        ],\\r\\n                        \"context_set\": \"\"\\r\\n                },\\r\\n                {\\r\\n                        \"tag\": \"goodbye\",\\r\\n                        \"patterns\": [\\r\\n                                \"Bye\",\\r\\n                                \"See you later\",\\r\\n                                \"Goodbye\"\\r\\n                        ],\\r\\n                        \"responses\": [\\r\\n                                \"See you later, thanks for visiting\",\\r\\n                                \"Have a nice day\",\\r\\n                                \"Bye! Come back again soon.\"\\r\\n                        ]\\r\\n                },\\r\\n                {\\r\\n                        \"tag\": \"thanks\",\\r\\n                        \"patterns\": [\\r\\n                                \"Thanks\",\\r\\n                                \"Thank you\",\\r\\n                                \"That\\'s helpful\"\\r\\n                        ],\\r\\n                        \"responses\": [\\r\\n                                \"Happy to help!\",\\r\\n                                \"Any time!\",\\r\\n                                \"My pleasure\"\\r\\n                        ]\\r\\n                },\\r\\n                {\\r\\n                        \"tag\": \"chatbot\",\\r\\n                        \"patterns\": [\\r\\n                                \"Who built this chatbot?\",\\r\\n                                \"Tell me about Chatbot\",\\r\\n                                \"What is this chatbot name?\"\\r\\n                        ],\\r\\n                        \"responses\": [\\r\\n                                \"Hi, I am Chatbot designed by Mayank.\",\\r\\n                                \"Thanks for asking. I am designed by Mayank Bajaj.\",\\r\\n                                \"I am a chatbot.\"\\r\\n                        ]\\r\\n                },\\r\\n                {\\r\\n                        \"tag\": \"location\",\\r\\n                        \"patterns\": [\\r\\n                                \"What is your location?\",\\r\\n                                \"Where are you located?\",\\r\\n                                \"What is your address?\"\\r\\n                        ],\\r\\n                        \"responses\": [\\r\\n                                \"We are from World\\'s largest Democracy India.\",\\r\\n                                \"You can visit India to meet us\",\\r\\n                                \"Thans for your Interest. I live in India.\"\\r\\n                        ]\\r\\n                },\\r\\n                {\\r\\n                        \"tag\": \"connect\",\\r\\n                        \"patterns\": [\\r\\n                                \"Give me your social media accounts link\",\\r\\n                                \"Where can we connect\",\\r\\n                                \"How can i reach out to you?\",\\r\\n                                \"Is there any way we can connect\"\\r\\n                        ],\\r\\n                        \"responses\": [\\r\\n                                \"You can connect me on Linkedin or Github \\\\n Linkedin - https://www.linkedin.com/in/mayank-bajaj/ \\\\n Github - https://github.com/mayank8200\",\\r\\n                                \"You can visit https://mayank-bajaj.me\"\\r\\n                        ]\\r\\n                },\\r\\n                {\\r\\n                        \"tag\": \"movies\",\\r\\n                        \"patterns\": [\\r\\n                                \"Which is your favourite movie?\",\\r\\n                                \"Suggest me some movies\",\\r\\n                                \"Recommend movies\"\\r\\n                        ],\\r\\n                        \"responses\": [\\r\\n                                \"3 idiots\",\\r\\n                                \"Hera Pheri\",\\r\\n                                \"Lage Raho Munna Bhai\",\\r\\n                                \"OMG: Oh My God!\",\\r\\n                                \"PK\",\\r\\n                                \"Yeh Jawani hai Deewani\",\\r\\n                                \"Zindagi na Milegi Doobara\",\\r\\n                                \"Ludo\"\\r\\n                        ]\\r\\n                },\\r\\n                {\\r\\n                        \"tag\": \"about\",\\r\\n                        \"patterns\": [\\r\\n                                \"Who are you?\",\\r\\n                                \"Tell me about Yourself\",\\r\\n                                \"What is this?\"\\r\\n                        ],\\r\\n                        \"responses\": [\\r\\n                                \"Hi, I am Mayank. Nice to meet you. I made this chatbot for fun and practice.\",\\r\\n                                \"Thanks for asking. I am Mayank Bajaj, coder by profession but ML enthusiast by passion.\"\\r\\n                        ]\\r\\n                }\\r\\n               \\r\\n        ]\\r\\n}'}"
            ]
          },
          "metadata": {},
          "execution_count": 4
        }
      ],
      "source": [
        "# import the json file\n",
        "from google.colab import files\n",
        "files.upload()"
      ]
    },
    {
      "cell_type": "code",
      "execution_count": 5,
      "metadata": {
        "id": "OFUsH9AmbjW0"
      },
      "outputs": [],
      "source": [
        "# open the json file\n",
        "with open('intents.json') as json_data:\n",
        "  intents = json.load(json_data)"
      ]
    },
    {
      "cell_type": "code",
      "execution_count": 6,
      "metadata": {
        "id": "SOVCfy07bjZs",
        "colab": {
          "base_uri": "https://localhost:8080/"
        },
        "outputId": "57b8a686-7747-436a-ca92-0a8ad3cbfc40"
      },
      "outputs": [
        {
          "output_type": "execute_result",
          "data": {
            "text/plain": [
              "{'intents': [{'tag': 'greeting',\n",
              "   'patterns': ['Hi', 'How are you', 'Is anyone there?', 'Hello', 'Good day'],\n",
              "   'responses': ['Hello, thanks for visiting',\n",
              "    'Good to see you again',\n",
              "    'Hi there, how can I help?'],\n",
              "   'context_set': ''},\n",
              "  {'tag': 'goodbye',\n",
              "   'patterns': ['Bye', 'See you later', 'Goodbye'],\n",
              "   'responses': ['See you later, thanks for visiting',\n",
              "    'Have a nice day',\n",
              "    'Bye! Come back again soon.']},\n",
              "  {'tag': 'thanks',\n",
              "   'patterns': ['Thanks', 'Thank you', \"That's helpful\"],\n",
              "   'responses': ['Happy to help!', 'Any time!', 'My pleasure']},\n",
              "  {'tag': 'chatbot',\n",
              "   'patterns': ['Who built this chatbot?',\n",
              "    'Tell me about Chatbot',\n",
              "    'What is this chatbot name?'],\n",
              "   'responses': ['Hi, I am Chatbot designed by Mayank.',\n",
              "    'Thanks for asking. I am designed by Mayank Bajaj.',\n",
              "    'I am a chatbot.']},\n",
              "  {'tag': 'location',\n",
              "   'patterns': ['What is your location?',\n",
              "    'Where are you located?',\n",
              "    'What is your address?'],\n",
              "   'responses': [\"We are from World's largest Democracy India.\",\n",
              "    'You can visit India to meet us',\n",
              "    'Thans for your Interest. I live in India.']},\n",
              "  {'tag': 'connect',\n",
              "   'patterns': ['Give me your social media accounts link',\n",
              "    'Where can we connect',\n",
              "    'How can i reach out to you?',\n",
              "    'Is there any way we can connect'],\n",
              "   'responses': ['You can connect me on Linkedin or Github \\n Linkedin - https://www.linkedin.com/in/mayank-bajaj/ \\n Github - https://github.com/mayank8200',\n",
              "    'You can visit https://mayank-bajaj.me']},\n",
              "  {'tag': 'movies',\n",
              "   'patterns': ['Which is your favourite movie?',\n",
              "    'Suggest me some movies',\n",
              "    'Recommend movies'],\n",
              "   'responses': ['3 idiots',\n",
              "    'Hera Pheri',\n",
              "    'Lage Raho Munna Bhai',\n",
              "    'OMG: Oh My God!',\n",
              "    'PK',\n",
              "    'Yeh Jawani hai Deewani',\n",
              "    'Zindagi na Milegi Doobara',\n",
              "    'Ludo']},\n",
              "  {'tag': 'about',\n",
              "   'patterns': ['Who are you?', 'Tell me about Yourself', 'What is this?'],\n",
              "   'responses': ['Hi, I am Mayank. Nice to meet you. I made this chatbot for fun and practice.',\n",
              "    'Thanks for asking. I am Mayank Bajaj, coder by profession but ML enthusiast by passion.']}]}"
            ]
          },
          "metadata": {},
          "execution_count": 6
        }
      ],
      "source": [
        "# display the text from the json file\n",
        "intents"
      ]
    },
    {
      "cell_type": "code",
      "execution_count": 7,
      "metadata": {
        "id": "L7augMJvbjdE"
      },
      "outputs": [],
      "source": [
        "words =[]\n",
        "classes = []\n",
        "documents = []\n",
        "ignore = ['?']\n",
        "# loop through each sentence in the intent's patterns\n",
        "\n",
        "for intent in intents['intents']:\n",
        "  for pattern in intent['patterns']:\n",
        "    # tokenize each and every word in the sentence\n",
        "    w = nltk.word_tokenize(pattern)\n",
        "    # add word to the words list\n",
        "    words.extend(w)\n",
        "    # add words to documents\n",
        "    documents.append((w, intent['tag']))\n",
        "    # add tags to our classes list\n",
        "    if intent['tag'] not in classes:\n",
        "      classes.append(intent['tag'])"
      ]
    },
    {
      "cell_type": "code",
      "execution_count": 8,
      "metadata": {
        "id": "CUfBS8z4bjfs",
        "colab": {
          "base_uri": "https://localhost:8080/"
        },
        "outputId": "869fec8d-a666-40e9-af6b-bd20136104e7"
      },
      "outputs": [
        {
          "output_type": "stream",
          "name": "stdout",
          "text": [
            "27 documents\n",
            "8 classes ['about', 'chatbot', 'connect', 'goodbye', 'greeting', 'location', 'movies', 'thanks']\n",
            "52 unique stemmed words [\"'s\", 'about', 'account', 'address', 'ani', 'anyon', 'are', 'built', 'bye', 'can', 'chatbot', 'connect', 'day', 'favourit', 'give', 'good', 'goodby', 'hello', 'help', 'hi', 'how', 'i', 'is', 'later', 'link', 'locat', 'me', 'media', 'movi', 'name', 'out', 'reach', 'recommend', 'see', 'social', 'some', 'suggest', 'tell', 'thank', 'that', 'there', 'thi', 'to', 'way', 'we', 'what', 'where', 'which', 'who', 'you', 'your', 'yourself']\n"
          ]
        }
      ],
      "source": [
        "# perform stemming and lower each word as well as remove duplicates\n",
        "words = [stemmer.stem(w.lower()) for w in words if w not in ignore]\n",
        "words = sorted(list(set(words)))\n",
        "\n",
        "# remove duplicate classes\n",
        "classes = sorted(list(set(classes)))\n",
        "\n",
        "# display the length of each variable\n",
        "print(len(documents),\"documents\")\n",
        "print(len(classes),\"classes\",classes)\n",
        "print(len(words),\"unique stemmed words\",words)"
      ]
    },
    {
      "cell_type": "code",
      "execution_count": 9,
      "metadata": {
        "id": "1yH4wRmibji0"
      },
      "outputs": [],
      "source": [
        "# create training data\n",
        "training = []\n",
        "output = []\n",
        "\n",
        "# create an empty array for output\n",
        "output_empty = [0] * len(classes)\n",
        "\n"
      ]
    },
    {
      "cell_type": "code",
      "execution_count": null,
      "metadata": {
        "id": "YtVaPDuobjmM"
      },
      "outputs": [],
      "source": []
    }
  ],
  "metadata": {
    "colab": {
      "provenance": []
    },
    "kernelspec": {
      "display_name": "Python 3",
      "name": "python3"
    },
    "language_info": {
      "name": "python"
    }
  },
  "nbformat": 4,
  "nbformat_minor": 0
}