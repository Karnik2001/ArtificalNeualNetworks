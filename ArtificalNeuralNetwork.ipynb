{
  "nbformat": 4,
  "nbformat_minor": 0,
  "metadata": {
    "colab": {
      "provenance": []
    },
    "kernelspec": {
      "name": "python3",
      "display_name": "Python 3"
    },
    "language_info": {
      "name": "python"
    }
  },
  "cells": [
    {
      "cell_type": "code",
      "execution_count": null,
      "metadata": {
        "id": "tmwjXmA_2fRe"
      },
      "outputs": [],
      "source": [
        "# import all of the necessary libraries\n",
        "import numpy as np\n",
        "import pandas as pd\n",
        "import tensorflow as tf\n",
        "from sklearn.model_selection import train_test_split"
      ]
    },
    {
      "cell_type": "code",
      "source": [
        "# load the dataset\n",
        "dataset = pd.read_excel('/Folds5x2_pp.xlsx')\n",
        "dataset.head()"
      ],
      "metadata": {
        "colab": {
          "base_uri": "https://localhost:8080/",
          "height": 206
        },
        "id": "IsRD3aOr2p-c",
        "outputId": "40b95901-c6df-4d6c-e2fb-c4d4f79713cb"
      },
      "execution_count": null,
      "outputs": [
        {
          "output_type": "execute_result",
          "data": {
            "text/plain": [
              "      AT      V       AP     RH      PE\n",
              "0  14.96  41.76  1024.07  73.17  463.26\n",
              "1  25.18  62.96  1020.04  59.08  444.37\n",
              "2   5.11  39.40  1012.16  92.14  488.56\n",
              "3  20.86  57.32  1010.24  76.64  446.48\n",
              "4  10.82  37.50  1009.23  96.62  473.90"
            ],
            "text/html": [
              "\n",
              "  <div id=\"df-f0fb00d0-8d94-4d4b-8761-69d87753a301\">\n",
              "    <div class=\"colab-df-container\">\n",
              "      <div>\n",
              "<style scoped>\n",
              "    .dataframe tbody tr th:only-of-type {\n",
              "        vertical-align: middle;\n",
              "    }\n",
              "\n",
              "    .dataframe tbody tr th {\n",
              "        vertical-align: top;\n",
              "    }\n",
              "\n",
              "    .dataframe thead th {\n",
              "        text-align: right;\n",
              "    }\n",
              "</style>\n",
              "<table border=\"1\" class=\"dataframe\">\n",
              "  <thead>\n",
              "    <tr style=\"text-align: right;\">\n",
              "      <th></th>\n",
              "      <th>AT</th>\n",
              "      <th>V</th>\n",
              "      <th>AP</th>\n",
              "      <th>RH</th>\n",
              "      <th>PE</th>\n",
              "    </tr>\n",
              "  </thead>\n",
              "  <tbody>\n",
              "    <tr>\n",
              "      <th>0</th>\n",
              "      <td>14.96</td>\n",
              "      <td>41.76</td>\n",
              "      <td>1024.07</td>\n",
              "      <td>73.17</td>\n",
              "      <td>463.26</td>\n",
              "    </tr>\n",
              "    <tr>\n",
              "      <th>1</th>\n",
              "      <td>25.18</td>\n",
              "      <td>62.96</td>\n",
              "      <td>1020.04</td>\n",
              "      <td>59.08</td>\n",
              "      <td>444.37</td>\n",
              "    </tr>\n",
              "    <tr>\n",
              "      <th>2</th>\n",
              "      <td>5.11</td>\n",
              "      <td>39.40</td>\n",
              "      <td>1012.16</td>\n",
              "      <td>92.14</td>\n",
              "      <td>488.56</td>\n",
              "    </tr>\n",
              "    <tr>\n",
              "      <th>3</th>\n",
              "      <td>20.86</td>\n",
              "      <td>57.32</td>\n",
              "      <td>1010.24</td>\n",
              "      <td>76.64</td>\n",
              "      <td>446.48</td>\n",
              "    </tr>\n",
              "    <tr>\n",
              "      <th>4</th>\n",
              "      <td>10.82</td>\n",
              "      <td>37.50</td>\n",
              "      <td>1009.23</td>\n",
              "      <td>96.62</td>\n",
              "      <td>473.90</td>\n",
              "    </tr>\n",
              "  </tbody>\n",
              "</table>\n",
              "</div>\n",
              "      <button class=\"colab-df-convert\" onclick=\"convertToInteractive('df-f0fb00d0-8d94-4d4b-8761-69d87753a301')\"\n",
              "              title=\"Convert this dataframe to an interactive table.\"\n",
              "              style=\"display:none;\">\n",
              "        \n",
              "  <svg xmlns=\"http://www.w3.org/2000/svg\" height=\"24px\"viewBox=\"0 0 24 24\"\n",
              "       width=\"24px\">\n",
              "    <path d=\"M0 0h24v24H0V0z\" fill=\"none\"/>\n",
              "    <path d=\"M18.56 5.44l.94 2.06.94-2.06 2.06-.94-2.06-.94-.94-2.06-.94 2.06-2.06.94zm-11 1L8.5 8.5l.94-2.06 2.06-.94-2.06-.94L8.5 2.5l-.94 2.06-2.06.94zm10 10l.94 2.06.94-2.06 2.06-.94-2.06-.94-.94-2.06-.94 2.06-2.06.94z\"/><path d=\"M17.41 7.96l-1.37-1.37c-.4-.4-.92-.59-1.43-.59-.52 0-1.04.2-1.43.59L10.3 9.45l-7.72 7.72c-.78.78-.78 2.05 0 2.83L4 21.41c.39.39.9.59 1.41.59.51 0 1.02-.2 1.41-.59l7.78-7.78 2.81-2.81c.8-.78.8-2.07 0-2.86zM5.41 20L4 18.59l7.72-7.72 1.47 1.35L5.41 20z\"/>\n",
              "  </svg>\n",
              "      </button>\n",
              "      \n",
              "  <style>\n",
              "    .colab-df-container {\n",
              "      display:flex;\n",
              "      flex-wrap:wrap;\n",
              "      gap: 12px;\n",
              "    }\n",
              "\n",
              "    .colab-df-convert {\n",
              "      background-color: #E8F0FE;\n",
              "      border: none;\n",
              "      border-radius: 50%;\n",
              "      cursor: pointer;\n",
              "      display: none;\n",
              "      fill: #1967D2;\n",
              "      height: 32px;\n",
              "      padding: 0 0 0 0;\n",
              "      width: 32px;\n",
              "    }\n",
              "\n",
              "    .colab-df-convert:hover {\n",
              "      background-color: #E2EBFA;\n",
              "      box-shadow: 0px 1px 2px rgba(60, 64, 67, 0.3), 0px 1px 3px 1px rgba(60, 64, 67, 0.15);\n",
              "      fill: #174EA6;\n",
              "    }\n",
              "\n",
              "    [theme=dark] .colab-df-convert {\n",
              "      background-color: #3B4455;\n",
              "      fill: #D2E3FC;\n",
              "    }\n",
              "\n",
              "    [theme=dark] .colab-df-convert:hover {\n",
              "      background-color: #434B5C;\n",
              "      box-shadow: 0px 1px 3px 1px rgba(0, 0, 0, 0.15);\n",
              "      filter: drop-shadow(0px 1px 2px rgba(0, 0, 0, 0.3));\n",
              "      fill: #FFFFFF;\n",
              "    }\n",
              "  </style>\n",
              "\n",
              "      <script>\n",
              "        const buttonEl =\n",
              "          document.querySelector('#df-f0fb00d0-8d94-4d4b-8761-69d87753a301 button.colab-df-convert');\n",
              "        buttonEl.style.display =\n",
              "          google.colab.kernel.accessAllowed ? 'block' : 'none';\n",
              "\n",
              "        async function convertToInteractive(key) {\n",
              "          const element = document.querySelector('#df-f0fb00d0-8d94-4d4b-8761-69d87753a301');\n",
              "          const dataTable =\n",
              "            await google.colab.kernel.invokeFunction('convertToInteractive',\n",
              "                                                     [key], {});\n",
              "          if (!dataTable) return;\n",
              "\n",
              "          const docLinkHtml = 'Like what you see? Visit the ' +\n",
              "            '<a target=\"_blank\" href=https://colab.research.google.com/notebooks/data_table.ipynb>data table notebook</a>'\n",
              "            + ' to learn more about interactive tables.';\n",
              "          element.innerHTML = '';\n",
              "          dataTable['output_type'] = 'display_data';\n",
              "          await google.colab.output.renderOutput(dataTable, element);\n",
              "          const docLink = document.createElement('div');\n",
              "          docLink.innerHTML = docLinkHtml;\n",
              "          element.appendChild(docLink);\n",
              "        }\n",
              "      </script>\n",
              "    </div>\n",
              "  </div>\n",
              "  "
            ]
          },
          "metadata": {},
          "execution_count": 4
        }
      ]
    },
    {
      "cell_type": "code",
      "source": [
        "# create feature and target variable\n",
        "x = dataset.iloc[:, :-1].values\n",
        "y = dataset.iloc[:,-1].values\n",
        "print(x)\n",
        "print(y)"
      ],
      "metadata": {
        "colab": {
          "base_uri": "https://localhost:8080/"
        },
        "id": "aoj_F_512qBT",
        "outputId": "676423ac-351c-4b94-bc64-325d416163fa"
      },
      "execution_count": null,
      "outputs": [
        {
          "output_type": "stream",
          "name": "stdout",
          "text": [
            "[[  14.96   41.76 1024.07   73.17]\n",
            " [  25.18   62.96 1020.04   59.08]\n",
            " [   5.11   39.4  1012.16   92.14]\n",
            " ...\n",
            " [  31.32   74.33 1012.92   36.48]\n",
            " [  24.48   69.45 1013.86   62.39]\n",
            " [  21.6    62.52 1017.23   67.87]]\n",
            "[463.26 444.37 488.56 ... 429.57 435.74 453.28]\n"
          ]
        }
      ]
    },
    {
      "cell_type": "code",
      "source": [
        "# divide the dataset into a training and test datasets\n",
        "x_train, x_test, y_train, y_test = train_test_split(x,y,test_size = 0.2, random_state=0)"
      ],
      "metadata": {
        "id": "v3fUk24y4T1X"
      },
      "execution_count": null,
      "outputs": []
    },
    {
      "cell_type": "code",
      "source": [
        "# create the ANN model\n",
        "ann = tf.keras.models.Sequential()"
      ],
      "metadata": {
        "id": "hzPSzyXZ2qEk"
      },
      "execution_count": null,
      "outputs": []
    },
    {
      "cell_type": "code",
      "source": [
        "# create first dense layer\n",
        "ann.add(tf.keras.layers.Dense(units=6, activation = 'relu'))"
      ],
      "metadata": {
        "id": "AdkYjWI92qHj"
      },
      "execution_count": null,
      "outputs": []
    },
    {
      "cell_type": "code",
      "source": [
        "# create second dense layer\n",
        "ann.add(tf.keras.layers.Dense(units=6, activation = 'relu'))"
      ],
      "metadata": {
        "id": "PHv5FmEZ2qKr"
      },
      "execution_count": null,
      "outputs": []
    },
    {
      "cell_type": "code",
      "source": [
        "# create the output layer\n",
        "ann.add(tf.keras.layers.Dense(units=1))"
      ],
      "metadata": {
        "id": "wwe-16792qNT"
      },
      "execution_count": null,
      "outputs": []
    },
    {
      "cell_type": "code",
      "source": [
        "# compile the model\n",
        "ann.compile(optimizer='adam',loss = 'mean_squared_error')"
      ],
      "metadata": {
        "id": "L4KkFlw72qP0"
      },
      "execution_count": null,
      "outputs": []
    },
    {
      "cell_type": "code",
      "source": [
        "# train the model\n",
        "ann.fit(x_train,y_train, batch_size = 32, epochs = 100)"
      ],
      "metadata": {
        "colab": {
          "base_uri": "https://localhost:8080/"
        },
        "id": "xQl7-xFk2qSt",
        "outputId": "1b401781-3d36-45ab-804a-aeee4428dfe5"
      },
      "execution_count": null,
      "outputs": [
        {
          "output_type": "stream",
          "name": "stdout",
          "text": [
            "Epoch 1/100\n",
            "240/240 [==============================] - 1s 2ms/step - loss: 108457.4062\n",
            "Epoch 2/100\n",
            "240/240 [==============================] - 0s 2ms/step - loss: 399.6946\n",
            "Epoch 3/100\n",
            "240/240 [==============================] - 0s 2ms/step - loss: 379.1658\n",
            "Epoch 4/100\n",
            "240/240 [==============================] - 0s 2ms/step - loss: 353.8035\n",
            "Epoch 5/100\n",
            "240/240 [==============================] - 0s 2ms/step - loss: 325.9858\n",
            "Epoch 6/100\n",
            "240/240 [==============================] - 0s 2ms/step - loss: 296.5343\n",
            "Epoch 7/100\n",
            "240/240 [==============================] - 0s 2ms/step - loss: 266.0515\n",
            "Epoch 8/100\n",
            "240/240 [==============================] - 0s 2ms/step - loss: 235.6227\n",
            "Epoch 9/100\n",
            "240/240 [==============================] - 0s 1ms/step - loss: 205.4769\n",
            "Epoch 10/100\n",
            "240/240 [==============================] - 0s 2ms/step - loss: 177.0093\n",
            "Epoch 11/100\n",
            "240/240 [==============================] - 0s 2ms/step - loss: 150.5323\n",
            "Epoch 12/100\n",
            "240/240 [==============================] - 0s 1ms/step - loss: 126.9353\n",
            "Epoch 13/100\n",
            "240/240 [==============================] - 0s 2ms/step - loss: 106.3460\n",
            "Epoch 14/100\n",
            "240/240 [==============================] - 0s 1ms/step - loss: 88.4229\n",
            "Epoch 15/100\n",
            "240/240 [==============================] - 0s 2ms/step - loss: 74.6549\n",
            "Epoch 16/100\n",
            "240/240 [==============================] - 0s 2ms/step - loss: 63.4994\n",
            "Epoch 17/100\n",
            "240/240 [==============================] - 0s 2ms/step - loss: 55.4827\n",
            "Epoch 18/100\n",
            "240/240 [==============================] - 0s 2ms/step - loss: 49.8179\n",
            "Epoch 19/100\n",
            "240/240 [==============================] - 0s 2ms/step - loss: 46.0072\n",
            "Epoch 20/100\n",
            "240/240 [==============================] - 0s 2ms/step - loss: 42.7397\n",
            "Epoch 21/100\n",
            "240/240 [==============================] - 0s 2ms/step - loss: 40.7383\n",
            "Epoch 22/100\n",
            "240/240 [==============================] - 0s 2ms/step - loss: 38.9777\n",
            "Epoch 23/100\n",
            "240/240 [==============================] - 0s 2ms/step - loss: 37.4683\n",
            "Epoch 24/100\n",
            "240/240 [==============================] - 0s 2ms/step - loss: 36.3616\n",
            "Epoch 25/100\n",
            "240/240 [==============================] - 0s 1ms/step - loss: 34.8936\n",
            "Epoch 26/100\n",
            "240/240 [==============================] - 0s 2ms/step - loss: 34.6661\n",
            "Epoch 27/100\n",
            "240/240 [==============================] - 0s 1ms/step - loss: 33.8134\n",
            "Epoch 28/100\n",
            "240/240 [==============================] - 0s 1ms/step - loss: 33.0218\n",
            "Epoch 29/100\n",
            "240/240 [==============================] - 0s 2ms/step - loss: 32.1045\n",
            "Epoch 30/100\n",
            "240/240 [==============================] - 0s 2ms/step - loss: 32.3543\n",
            "Epoch 31/100\n",
            "240/240 [==============================] - 0s 2ms/step - loss: 31.5773\n",
            "Epoch 32/100\n",
            "240/240 [==============================] - 0s 2ms/step - loss: 31.3110\n",
            "Epoch 33/100\n",
            "240/240 [==============================] - 0s 2ms/step - loss: 30.0912\n",
            "Epoch 34/100\n",
            "240/240 [==============================] - 0s 2ms/step - loss: 30.8643\n",
            "Epoch 35/100\n",
            "240/240 [==============================] - 0s 2ms/step - loss: 29.6572\n",
            "Epoch 36/100\n",
            "240/240 [==============================] - 0s 2ms/step - loss: 29.1325\n",
            "Epoch 37/100\n",
            "240/240 [==============================] - 0s 2ms/step - loss: 30.2367\n",
            "Epoch 38/100\n",
            "240/240 [==============================] - 0s 1ms/step - loss: 29.0157\n",
            "Epoch 39/100\n",
            "240/240 [==============================] - 0s 2ms/step - loss: 30.0054\n",
            "Epoch 40/100\n",
            "240/240 [==============================] - 0s 2ms/step - loss: 28.5283\n",
            "Epoch 41/100\n",
            "240/240 [==============================] - 0s 2ms/step - loss: 28.0491\n",
            "Epoch 42/100\n",
            "240/240 [==============================] - 0s 2ms/step - loss: 28.0699\n",
            "Epoch 43/100\n",
            "240/240 [==============================] - 0s 2ms/step - loss: 28.1121\n",
            "Epoch 44/100\n",
            "240/240 [==============================] - 0s 2ms/step - loss: 27.8819\n",
            "Epoch 45/100\n",
            "240/240 [==============================] - 0s 2ms/step - loss: 28.6651\n",
            "Epoch 46/100\n",
            "240/240 [==============================] - 0s 2ms/step - loss: 27.3199\n",
            "Epoch 47/100\n",
            "240/240 [==============================] - 0s 2ms/step - loss: 27.5112\n",
            "Epoch 48/100\n",
            "240/240 [==============================] - 0s 2ms/step - loss: 27.9642\n",
            "Epoch 49/100\n",
            "240/240 [==============================] - 0s 2ms/step - loss: 28.1151\n",
            "Epoch 50/100\n",
            "240/240 [==============================] - 0s 2ms/step - loss: 27.6054\n",
            "Epoch 51/100\n",
            "240/240 [==============================] - 0s 2ms/step - loss: 27.5441\n",
            "Epoch 52/100\n",
            "240/240 [==============================] - 0s 2ms/step - loss: 27.1621\n",
            "Epoch 53/100\n",
            "240/240 [==============================] - 0s 2ms/step - loss: 26.7851\n",
            "Epoch 54/100\n",
            "240/240 [==============================] - 0s 2ms/step - loss: 27.8618\n",
            "Epoch 55/100\n",
            "240/240 [==============================] - 0s 2ms/step - loss: 28.2756\n",
            "Epoch 56/100\n",
            "240/240 [==============================] - 0s 2ms/step - loss: 27.0373\n",
            "Epoch 57/100\n",
            "240/240 [==============================] - 0s 2ms/step - loss: 27.6760\n",
            "Epoch 58/100\n",
            "240/240 [==============================] - 0s 2ms/step - loss: 27.2072\n",
            "Epoch 59/100\n",
            "240/240 [==============================] - 0s 2ms/step - loss: 27.1195\n",
            "Epoch 60/100\n",
            "240/240 [==============================] - 0s 2ms/step - loss: 27.5947\n",
            "Epoch 61/100\n",
            "240/240 [==============================] - 0s 1ms/step - loss: 27.3036\n",
            "Epoch 62/100\n",
            "240/240 [==============================] - 0s 2ms/step - loss: 27.1158\n",
            "Epoch 63/100\n",
            "240/240 [==============================] - 0s 1ms/step - loss: 27.7024\n",
            "Epoch 64/100\n",
            "240/240 [==============================] - 0s 2ms/step - loss: 28.0528\n",
            "Epoch 65/100\n",
            "240/240 [==============================] - 0s 2ms/step - loss: 27.9465\n",
            "Epoch 66/100\n",
            "240/240 [==============================] - 0s 2ms/step - loss: 26.8695\n",
            "Epoch 67/100\n",
            "240/240 [==============================] - 1s 2ms/step - loss: 27.3501\n",
            "Epoch 68/100\n",
            "240/240 [==============================] - 0s 2ms/step - loss: 27.5296\n",
            "Epoch 69/100\n",
            "240/240 [==============================] - 1s 3ms/step - loss: 28.5673\n",
            "Epoch 70/100\n",
            "240/240 [==============================] - 1s 3ms/step - loss: 26.6199\n",
            "Epoch 71/100\n",
            "240/240 [==============================] - 0s 2ms/step - loss: 27.2351\n",
            "Epoch 72/100\n",
            "240/240 [==============================] - 0s 2ms/step - loss: 26.5252\n",
            "Epoch 73/100\n",
            "240/240 [==============================] - 0s 2ms/step - loss: 27.0193\n",
            "Epoch 74/100\n",
            "240/240 [==============================] - 0s 2ms/step - loss: 27.4227\n",
            "Epoch 75/100\n",
            "240/240 [==============================] - 0s 2ms/step - loss: 27.4771\n",
            "Epoch 76/100\n",
            "240/240 [==============================] - 0s 2ms/step - loss: 27.5727\n",
            "Epoch 77/100\n",
            "240/240 [==============================] - 0s 2ms/step - loss: 28.8278\n",
            "Epoch 78/100\n",
            "240/240 [==============================] - 0s 1ms/step - loss: 26.5399\n",
            "Epoch 79/100\n",
            "240/240 [==============================] - 0s 2ms/step - loss: 28.7923\n",
            "Epoch 80/100\n",
            "240/240 [==============================] - 0s 2ms/step - loss: 26.9984\n",
            "Epoch 81/100\n",
            "240/240 [==============================] - 0s 2ms/step - loss: 26.6418\n",
            "Epoch 82/100\n",
            "240/240 [==============================] - 0s 2ms/step - loss: 27.2831\n",
            "Epoch 83/100\n",
            "240/240 [==============================] - 0s 2ms/step - loss: 27.5530\n",
            "Epoch 84/100\n",
            "240/240 [==============================] - 0s 2ms/step - loss: 27.6259\n",
            "Epoch 85/100\n",
            "240/240 [==============================] - 0s 2ms/step - loss: 27.4318\n",
            "Epoch 86/100\n",
            "240/240 [==============================] - 0s 2ms/step - loss: 27.4551\n",
            "Epoch 87/100\n",
            "240/240 [==============================] - 0s 2ms/step - loss: 26.9262\n",
            "Epoch 88/100\n",
            "240/240 [==============================] - 0s 2ms/step - loss: 27.4259\n",
            "Epoch 89/100\n",
            "240/240 [==============================] - 0s 2ms/step - loss: 27.5135\n",
            "Epoch 90/100\n",
            "240/240 [==============================] - 0s 2ms/step - loss: 26.8162\n",
            "Epoch 91/100\n",
            "240/240 [==============================] - 0s 2ms/step - loss: 27.6621\n",
            "Epoch 92/100\n",
            "240/240 [==============================] - 0s 2ms/step - loss: 27.5186\n",
            "Epoch 93/100\n",
            "240/240 [==============================] - 0s 2ms/step - loss: 27.3922\n",
            "Epoch 94/100\n",
            "240/240 [==============================] - 0s 2ms/step - loss: 26.6987\n",
            "Epoch 95/100\n",
            "240/240 [==============================] - 0s 2ms/step - loss: 28.5551\n",
            "Epoch 96/100\n",
            "240/240 [==============================] - 0s 2ms/step - loss: 26.9826\n",
            "Epoch 97/100\n",
            "240/240 [==============================] - 0s 2ms/step - loss: 26.5785\n",
            "Epoch 98/100\n",
            "240/240 [==============================] - 0s 2ms/step - loss: 26.9388\n",
            "Epoch 99/100\n",
            "240/240 [==============================] - 0s 2ms/step - loss: 26.7110\n",
            "Epoch 100/100\n",
            "240/240 [==============================] - 0s 2ms/step - loss: 26.9817\n"
          ]
        },
        {
          "output_type": "execute_result",
          "data": {
            "text/plain": [
              "<keras.callbacks.History at 0x7f15502a5550>"
            ]
          },
          "metadata": {},
          "execution_count": 23
        }
      ]
    },
    {
      "cell_type": "code",
      "source": [
        "# predict the output values from the input and display it\n",
        "y_pred = ann.predict(x_test)\n",
        "np.set_printoptions(precision=2)\n",
        "print(np.concatenate((y_pred.reshape(len(y_pred),1), y_test.reshape(len(y_test),1)),1))"
      ],
      "metadata": {
        "colab": {
          "base_uri": "https://localhost:8080/"
        },
        "id": "YW91la-r2qVm",
        "outputId": "dd387d06-294a-480f-b8cf-075f44aba03a"
      },
      "execution_count": null,
      "outputs": [
        {
          "output_type": "stream",
          "name": "stdout",
          "text": [
            "60/60 [==============================] - 0s 1ms/step\n",
            "[[430.08 431.23]\n",
            " [460.92 460.01]\n",
            " [464.9  461.14]\n",
            " ...\n",
            " [471.9  473.26]\n",
            " [438.17 438.  ]\n",
            " [457.82 463.28]]\n"
          ]
        }
      ]
    },
    {
      "cell_type": "code",
      "source": [],
      "metadata": {
        "id": "s80MSmmy2qYf"
      },
      "execution_count": null,
      "outputs": []
    },
    {
      "cell_type": "code",
      "source": [],
      "metadata": {
        "id": "iyNEyzWC2qbM"
      },
      "execution_count": null,
      "outputs": []
    },
    {
      "cell_type": "code",
      "source": [],
      "metadata": {
        "id": "O27xe7hm2qeE"
      },
      "execution_count": null,
      "outputs": []
    },
    {
      "cell_type": "code",
      "source": [],
      "metadata": {
        "id": "wVr1pfKW2qg1"
      },
      "execution_count": null,
      "outputs": []
    },
    {
      "cell_type": "code",
      "source": [],
      "metadata": {
        "id": "d_hYd4oF2qjU"
      },
      "execution_count": null,
      "outputs": []
    }
  ]
}